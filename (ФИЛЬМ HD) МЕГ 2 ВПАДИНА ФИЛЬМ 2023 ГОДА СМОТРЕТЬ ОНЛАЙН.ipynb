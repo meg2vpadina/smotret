{
  "nbformat": 4,
  "nbformat_minor": 0,
  "metadata": {
    "colab": {
      "provenance": [],
      "authorship_tag": "ABX9TyOyMBUyw5CSLedlfXB4q2F5",
      "include_colab_link": true
    },
    "kernelspec": {
      "name": "python3",
      "display_name": "Python 3"
    },
    "language_info": {
      "name": "python"
    }
  },
  "cells": [
    {
      "cell_type": "markdown",
      "metadata": {
        "id": "view-in-github",
        "colab_type": "text"
      },
      "source": [
        "<a href=\"https://colab.research.google.com/github/meg2vpadina/smotret/blob/main/(%D0%A4%D0%98%D0%9B%D0%AC%D0%9C%20HD)%20%D0%9C%D0%95%D0%93%202%20%D0%92%D0%9F%D0%90%D0%94%D0%98%D0%9D%D0%90%20%D0%A4%D0%98%D0%9B%D0%AC%D0%9C%202023%20%D0%93%D0%9E%D0%94%D0%90%20%D0%A1%D0%9C%D0%9E%D0%A2%D0%A0%D0%95%D0%A2%D0%AC%20%D0%9E%D0%9D%D0%9B%D0%90%D0%99%D0%9D.ipynb\" target=\"_parent\"><img src=\"https://colab.research.google.com/assets/colab-badge.svg\" alt=\"Open In Colab\"/></a>"
      ]
    },
    {
      "cell_type": "code",
      "execution_count": null,
      "metadata": {
        "id": "XmSmfWS1HUWt"
      },
      "outputs": [],
      "source": []
    },
    {
      "cell_type": "markdown",
      "source": [
        "(ФИЛЬМ HD) МЕГ 2 ВПАДИНА ФИЛЬМ 2023 ГОДА СМОТРЕТЬ ОНЛАЙН\n",
        "<p><a href=\"https://bit.ly/3L1uBuP\" target=\"_blank\" rel=\"noopener noreferrer\"><img src=\"https://i.imgur.com/2skYgg1.gif?top-gun-maverick\" alt=\"Ver ONE PIECE FILM RED Online\" /></a></p>\n",
        "\n",
        "Запасной Player\n",
        "\n",
        "<p><a href=\"https://rn.landsa8.pw/\" target=\"_blank\" rel=\"noopener noreferrer\"><img src=\"https://ingescon.net/wp-content/uploads/2023/01/player.gif\" alt=\"Ver ONE PIECE FILM RED Online\" /></a></p>"
      ],
      "metadata": {
        "id": "qTELJgzwHkte"
      }
    },
    {
      "cell_type": "code",
      "source": [
        "import IPython\n",
        "import IPython\n",
        "IPython.display.HTML('<h2></h2><iframe width=\"560\" height=\"315\" src=\"https://video.wixstatic.com/video/63c006_3ec91f5fce6b46e186c323a2de2f1c67/480p/mp4/file.mp4\" title=\"YouTube video player\" frameborder=\"0\" allow=\"accelerometer; autoplay; clipboard-write; encrypted-media; gyroscope; picture-in-picture\" allowfullscreen></iframe>')"
      ],
      "metadata": {
        "colab": {
          "base_uri": "https://localhost:8080/",
          "height": 353
        },
        "id": "qISUyQqjIb1G",
        "outputId": "85017f96-14da-41a8-dc10-860c564ccc4a"
      },
      "execution_count": 1,
      "outputs": [
        {
          "output_type": "execute_result",
          "data": {
            "text/plain": [
              "<IPython.core.display.HTML object>"
            ],
            "text/html": [
              "<h2></h2><iframe width=\"560\" height=\"315\" src=\"https://video.wixstatic.com/video/63c006_3ec91f5fce6b46e186c323a2de2f1c67/480p/mp4/file.mp4\" title=\"YouTube video player\" frameborder=\"0\" allow=\"accelerometer; autoplay; clipboard-write; encrypted-media; gyroscope; picture-in-picture\" allowfullscreen></iframe>"
            ]
          },
          "metadata": {},
          "execution_count": 1
        }
      ]
    }
  ]
}